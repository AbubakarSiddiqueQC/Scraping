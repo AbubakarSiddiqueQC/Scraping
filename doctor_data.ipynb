{
  "cells": [
    {
      "cell_type": "code",
      "execution_count": null,
      "metadata": {
        "colab": {
          "background_save": true
        },
        "id": "Fb7tZxcyBAPH"
      },
      "outputs": [],
      "source": [
        "!apt update\n",
        "!apt install chromium-chromedriver\n",
        "!pip install selenium\n",
        "!pip install requests\n",
        "!pip install bs4\n",
        "!pip install html5lib\n",
        "!wget https://dl.google.com/linux/direct/google-chrome-stable_current_amd64.deb && apt install ./google-chrome-stable_current_amd64.deb\n",
        "from selenium import webdriver\n",
        "chrome_options = webdriver.ChromeOptions()\n",
        "chrome_options.add_argument('--headless')\n",
        "chrome_options.add_argument('--no-sandbox')\n",
        "chrome_options.add_argument('--disable-dev-shm-usage')\n",
        "wd = webdriver.Chrome(options=chrome_options)"
      ]
    },
    {
      "cell_type": "code",
      "execution_count": null,
      "metadata": {
        "colab": {
          "background_save": true
        },
        "id": "rVIRE9uReEQ8"
      },
      "outputs": [],
      "source": [
        "!pip install selenium"
      ]
    },
    {
      "cell_type": "code",
      "execution_count": null,
      "metadata": {
        "colab": {
          "background_save": true
        },
        "id": "icIH-9GuedaE"
      },
      "outputs": [],
      "source": [
        "!pip install selenium_stealth"
      ]
    },
    {
      "cell_type": "code",
      "execution_count": null,
      "metadata": {
        "colab": {
          "background_save": true
        },
        "id": "MRrMeABc1WTJ"
      },
      "outputs": [],
      "source": [
        "import pandas as pd"
      ]
    },
    {
      "cell_type": "code",
      "execution_count": null,
      "metadata": {
        "colab": {
          "background_save": true
        },
        "id": "bFqkerrAsEXu"
      },
      "outputs": [],
      "source": [
        "import requests\n",
        "from selenium_stealth import stealth\n",
        "from bs4 import BeautifulSoup\n",
        "import html5lib\n",
        "import re\n",
        "import selenium\n",
        "import os\n",
        "# import the Keys class\n",
        "from selenium.webdriver.common import keys\n",
        "from selenium import webdriver\n",
        "from selenium.webdriver.chrome.service import Service\n",
        "import time\n",
        "from selenium.webdriver.support.ui import Select\n",
        "# import org.openqa.selenium.support.ui.Select\n",
        "from collections import defaultdict\n",
        "options = webdriver.ChromeOptions()\n",
        "options.add_experimental_option('excludeSwitches', ['enable-automation'])\n",
        "options.add_experimental_option('useAutomationExtension', False)\n",
        "options.add_argument('--disable-blink-features=AutomationControlled')\n",
        "options.add_argument('--headless')\n",
        "options.add_argument('--no-sandbox')\n",
        "options.add_argument('--disable-dev-shm-usage')\n",
        "options.add_argument('user-agent=Mozilla/5.0 (Windows NT 10.0; Win64; x64) AppleWebKit/537.36 (KHTML, like Gecko) Chrome/91.0.4472.114 Safari/537.36')\n",
        "# options.add_argument(\"--no-sandbox\")"
      ]
    },
    {
      "cell_type": "code",
      "execution_count": null,
      "metadata": {
        "colab": {
          "background_save": true
        },
        "id": "CnmfjOcq_9bj"
      },
      "outputs": [],
      "source": [
        "def datafromsinglestate(statename):\n",
        "  url= \"https://npiprofile.com/recent/\"+statename\n",
        "  wd = webdriver.Chrome(options=options)\n",
        "  stealth(wd,\n",
        "          languages=[\"en-US\", \"en\"],\n",
        "          vendor=\"Google Inc.\",\n",
        "          platform=\"Win32\",\n",
        "          webgl_vendor=\"Intel Inc.\",\n",
        "          renderer=\"Intel Iris OpenGL Engine\",\n",
        "          fix_hairline=True,\n",
        "          )\n",
        "\n",
        "  wd.get(url)\n",
        "  time.sleep(10)\n",
        "  select = Select(wd.find_element_by_name('table-recently-updated-'+statename+'_length'))\n",
        "  select.select_by_value('-1')\n",
        "  data = []\n",
        "  soup = BeautifulSoup(wd.page_source, 'html.parser')\n",
        "  table = soup.find(\"table\", {\"id\": \"table-recently-updated-\"+statename})\n",
        "  table_body = table.find('tbody')\n",
        "\n",
        "  rows = table_body.find_all('tr')\n",
        "  for row in rows:\n",
        "      cols = row.find_all('td')\n",
        "      cols = [ele.text.strip() for ele in cols]\n",
        "      data.append([ele for ele in cols if ele])\n",
        "  # print(data[4551])\n",
        "  Npi = []\n",
        "  Name = []\n",
        "  Type = []\n",
        "  Texonomy = []\n",
        "  Address = []\n",
        "  Updated_on = []\n",
        "  count = 0\n",
        "\n",
        "  for i in data:\n",
        "\n",
        "    # print(count)\n",
        "    count = count + 1\n",
        "    if len(i) == 6:\n",
        "      # print(count,i)\n",
        "      Npi.append(i[0])\n",
        "      Name.append(i[1])\n",
        "      Type.append(i[2])\n",
        "      Texonomy.append(i[3])\n",
        "      Address.append(i[4])\n",
        "      Updated_on.append(i[5])\n",
        "\n",
        "  df = pd.DataFrame(data, columns = ['Npi','Name' ,'Type' ,'Texonomy', 'Address','Updated_on'])\n",
        "  df['Updated_on'] = df['Updated_on'].astype('datetime64[ns]')\n",
        "  # df1 = df[df['Texonomy'] == 'Home Health' ]\n",
        "  from datetime import datetime\n",
        "\n",
        "  df1 = df[df['Updated_on'] >= '2022-04-12' ]\n",
        "          #  or df['Texonomy'] == 'Social Worker(Clinical)']\n",
        "          # df['Texonomy'] == 'Home Health'\n",
        "  print(df1.info())\n",
        "  df1.to_csv(statename+'.csv', index=False)\n",
        "  return df1"
      ]
    },
    {
      "cell_type": "code",
      "execution_count": null,
      "metadata": {
        "id": "fpeZCKpac7MR"
      },
      "outputs": [],
      "source": [
        "import pandas as pd\n",
        "from google.colab import drive\n",
        "drive.mount('/content/drive')"
      ]
    },
    {
      "cell_type": "code",
      "execution_count": null,
      "metadata": {
        "colab": {
          "base_uri": "https://localhost:8080/"
        },
        "id": "vqQpN8bAleBY",
        "outputId": "f8d0d145-6742-401c-dbcc-4f60c06c80cb"
      },
      "outputs": [
        {
          "data": {
            "text/plain": [
              "999"
            ]
          },
          "execution_count": 12,
          "metadata": {},
          "output_type": "execute_result"
        }
      ],
      "source": [
        "dfnpi=pd.read_excel('/content/drive/MyDrive/Tahira NPI.xlsx')\n",
        "npi = dfnpi['NPI'].tolist()\n",
        "len(npi)"
      ]
    },
    {
      "cell_type": "code",
      "execution_count": null,
      "metadata": {
        "id": "tJUxCIj5R0jJ"
      },
      "outputs": [],
      "source": [
        "name_adress = []\n",
        "phone = []\n",
        "url1= \"https://npiregistry.cms.hhs.gov/provider-view/\"\n",
        "wd = webdriver.Chrome(options=options)\n",
        "# get method to launch the URL\n",
        "# wd.get(\"https://www.softwaretestingmaterial.com/sample-webpage-to-automate/\")\n",
        "count = 0\n",
        "\n",
        "for i in npi[0:2]:\n",
        "  try:\n",
        "    wd = webdriver.Chrome(options=options)\n",
        "    stealth(wd,\n",
        "          languages=[\"en-US\", \"en\"],\n",
        "          vendor=\"Google Inc.\",\n",
        "          platform=\"Win32\",\n",
        "          webgl_vendor=\"Intel Inc.\",\n",
        "          renderer=\"Intel Iris OpenGL Engine\",\n",
        "          fix_hairline=True,\n",
        "          )\n",
        "    count = count + 1\n",
        "    print(count)\n",
        "    url = url1+ str(i)\n",
        "# print(url)\n",
        "    wd.get(url)\n",
        "  #datafromsinglestate(\"fl-florida\")\n",
        "    time.sleep(1)\n",
        "    soup = BeautifulSoup(wd.page_source)\n",
        "    table = soup.body.find('table', attrs={'class': 'table table-striped table-bordered table-light'})\n",
        "    section = table.find_all(\"td\")\n",
        "    print(section)\n",
        "#ph = section.find(\"td\", \"phone\")\n",
        "    X = (section[13].text.split('|')[0].split(\"Phone:\")[-1])\n",
        "#print(type(X))\n",
        "    print(X.strip())\n",
        "    phone.append(X.strip())\n",
        "  except:\n",
        "    phone.append(\"none\")\n",
        "\n"
      ]
    },
    {
      "cell_type": "code",
      "execution_count": null,
      "metadata": {
        "id": "kcf_XLOT62JZ"
      },
      "outputs": [],
      "source": [
        "print(len(phone))\n",
        "dfnpi[\"Phone #\"] = phone\n",
        "dfnpi"
      ]
    },
    {
      "cell_type": "code",
      "execution_count": null,
      "metadata": {
        "id": "Fpn-zKHpLPod"
      },
      "outputs": [],
      "source": [
        "dfnpi.to_csv('/content/drive/MyDrive/Tahira_npi_with_numbers.csv', index=False)"
      ]
    },
    {
      "cell_type": "code",
      "execution_count": null,
      "metadata": {
        "id": "a3Wsl1bwaNd5"
      },
      "outputs": [],
      "source": []
    }
  ],
  "metadata": {
    "colab": {
      "provenance": []
    },
    "kernelspec": {
      "display_name": "Python 3",
      "name": "python3"
    },
    "language_info": {
      "name": "python"
    }
  },
  "nbformat": 4,
  "nbformat_minor": 0
}